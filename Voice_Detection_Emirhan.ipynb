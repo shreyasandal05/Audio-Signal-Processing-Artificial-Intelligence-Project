{
 "cells": [
  {
   "cell_type": "code",
   "execution_count": 1,
   "metadata": {},
   "outputs": [
    {
     "name": "stdout",
     "output_type": "stream",
     "text": [
      "Extraction complete!\n"
     ]
    }
   ],
   "source": [
    "import zipfile\n",
    "from pathlib import Path\n",
    "import os\n",
    "\n",
    "# Replace 'data_emir.zip' with your zip file path\n",
    "zip_path = \"C:/Users/HP/Downloads/project/Audio-Signal-Processing-Artificial-Intelligence-Project/data_emir.zip\"\n",
    "extract_to = \"data_load_emir\"  # Replace with the folder you want to extract to\n",
    "\n",
    "# Ensure the target folder exists\n",
    "os.makedirs(extract_to, exist_ok=True)\n",
    "\n",
    "# Extract the zip file\n",
    "with zipfile.ZipFile(zip_path, 'r') as zip_ref:\n",
    "    zip_ref.extractall(extract_to)\n",
    "\n",
    "print(\"Extraction complete!\")\n"
   ]
  },
  {
   "cell_type": "code",
   "execution_count": null,
   "metadata": {},
   "outputs": [],
   "source": []
  },
  {
   "cell_type": "code",
   "execution_count": 2,
   "metadata": {},
   "outputs": [],
   "source": [
    "# !unzip data_emir.zip"
   ]
  },
  {
   "cell_type": "markdown",
   "metadata": {
    "id": "eR_MzGi4aO9F"
   },
   "source": [
    "# Emirhan BULUT Voice Detection AI Software"
   ]
  },
  {
   "cell_type": "code",
   "execution_count": 3,
   "metadata": {
    "id": "IT_0e4WFMFgN"
   },
   "outputs": [],
   "source": [
    "import os\n",
    "import shutil\n",
    "import numpy as np\n",
    "import tensorflow as tf\n",
    "from tensorflow import keras\n",
    "from pathlib import Path\n",
    "from IPython.display import display, Audio\n",
    "DATASET_ROOT = os.path.join(os.path.expanduser(\"~\"), \"/content/data_load_emir\")\n",
    "AUDIO_SUBFOLDER = \"datas\"\n",
    "NOISE_SUBFOLDER = \"noises\"\n",
    "DATASET_AUDIO_PATH = os.path.join(DATASET_ROOT, AUDIO_SUBFOLDER)\n",
    "DATASET_NOISE_PATH = os.path.join(DATASET_ROOT, NOISE_SUBFOLDER)\n",
    "VALID_SPLIT = 0.1\n",
    "SHUFFLE_SEED = 36\n",
    "SAMPLING_RATE = 16000\n",
    "SCALE = 0.3\n",
    "BATCH_SIZE = 128\n",
    "EPOCHS = 10"
   ]
  },
  {
   "cell_type": "code",
   "execution_count": 4,
   "metadata": {
    "id": "m0x0ObDfMFgQ"
   },
   "outputs": [],
   "source": [
    "if os.path.exists(DATASET_AUDIO_PATH) is False:\n",
    "    os.makedirs(DATASET_AUDIO_PATH)\n",
    "if os.path.exists(DATASET_NOISE_PATH) is False:\n",
    "    os.makedirs(DATASET_NOISE_PATH)\n",
    "for folder in os.listdir(DATASET_ROOT):\n",
    "    if os.path.isdir(os.path.join(DATASET_ROOT, folder)):\n",
    "        if folder in [AUDIO_SUBFOLDER, NOISE_SUBFOLDER]:\n",
    "            continue\n",
    "        elif folder in [\"other\", \"_background_noise_\"]:\n",
    "            shutil.move(\n",
    "                os.path.join(DATASET_ROOT, folder),\n",
    "                os.path.join(DATASET_NOISE_PATH, folder),\n",
    "            )\n",
    "        else:\n",
    "            shutil.move(\n",
    "                os.path.join(DATASET_ROOT, folder),\n",
    "                os.path.join(DATASET_AUDIO_PATH, folder),\n",
    "            )"
   ]
  },
  {
   "cell_type": "code",
   "execution_count": 5,
   "metadata": {
    "colab": {
     "base_uri": "https://localhost:8080/"
    },
    "id": "DiMq8CV4MFgS",
    "outputId": "91211f90-b750-4939-f233-4b7694065370"
   },
   "outputs": [
    {
     "name": "stdout",
     "output_type": "stream",
     "text": [
      "6 files found in 2 directories\n"
     ]
    }
   ],
   "source": [
    "noise_paths = []\n",
    "p = r\"C:\\Users\\HP\\Downloads\\project\\Audio-Signal-Processing-Artificial-Intelligence-Project\\data_emir\\data_load_emir\\noises\"\n",
    "for subdir in os.listdir(p):\n",
    "    subdir_path = Path(p) / subdir\n",
    "    if os.path.isdir(subdir_path):\n",
    "        noise_paths += [\n",
    "            os.path.join(subdir_path, filepath)\n",
    "            for filepath in os.listdir(subdir_path)\n",
    "            if filepath.endswith(\".wav\")\n",
    "        ]\n",
    "\n",
    "print(\n",
    "    \"{} files found in {} directories\".format(\n",
    "        len(noise_paths), len(os.listdir(p))\n",
    "    )\n",
    ")"
   ]
  },
  {
   "cell_type": "code",
   "execution_count": null,
   "metadata": {},
   "outputs": [],
   "source": []
  },
  {
   "cell_type": "markdown",
   "metadata": {
    "id": "HXMaPkbmMFgT"
   },
   "source": [
    "Resample all noise samples to 16000 Hz"
   ]
  },
  {
   "cell_type": "code",
   "execution_count": 6,
   "metadata": {
    "colab": {
     "base_uri": "https://localhost:8080/"
    },
    "id": "yVysMM7OMFgU",
    "outputId": "94e5cae3-5d26-4be4-c2d4-753c5fef033f"
   },
   "outputs": [
    {
     "name": "stdout",
     "output_type": "stream",
     "text": [
      "6 noise files were split into 354 noise samples where each is 1 sec. long\n"
     ]
    }
   ],
   "source": [
    "command = (\n",
    "    \"for dir in `ls -1 \" + p + \"`; do \"\n",
    "    \"for file in `ls -1 \" + p + \"/$dir/*.wav`; do \"\n",
    "    \"sample_rate=`ffprobe -hide_banner -loglevel panic -show_streams \"\n",
    "    \"$file | grep sample_rate | cut -f2 -d=`; \"\n",
    "    \"if [ $sample_rate -ne 16000 ]; then \"\n",
    "    \"ffmpeg -hide_banner -loglevel panic -y \"\n",
    "    \"-i $file -ar 16000 temp.wav; \"\n",
    "    \"mv temp.wav $file; \"\n",
    "    \"fi; done; done\"\n",
    ")\n",
    "os.system(command)\n",
    "\n",
    "def load_noise_sample(path):\n",
    "    sample, sampling_rate = tf.audio.decode_wav(\n",
    "        tf.io.read_file(path), desired_channels=1\n",
    "    )\n",
    "    if sampling_rate == SAMPLING_RATE:\n",
    "        slices = int(sample.shape[0] / SAMPLING_RATE)\n",
    "        sample = tf.split(sample[: slices * SAMPLING_RATE], slices)\n",
    "        return sample\n",
    "    else:\n",
    "        print(\"Sampling rate for {} is incorrect. Ignoring it\".format(path))\n",
    "        return None\n",
    "\n",
    "\n",
    "noises = []\n",
    "for path in noise_paths:\n",
    "    sample = load_noise_sample(path)\n",
    "    if sample:\n",
    "        noises.extend(sample)\n",
    "noises = tf.stack(noises)\n",
    "\n",
    "print(\n",
    "    \"{} noise files were split into {} noise samples where each is {} sec. long\".format(\n",
    "        len(noise_paths), noises.shape[0], noises.shape[1] // SAMPLING_RATE\n",
    "    )\n",
    ")"
   ]
  },
  {
   "cell_type": "code",
   "execution_count": 7,
   "metadata": {},
   "outputs": [],
   "source": [
    "DATASET_AUDIO_PATH = p"
   ]
  },
  {
   "cell_type": "code",
   "execution_count": 8,
   "metadata": {},
   "outputs": [],
   "source": [
    "audio_paths =p"
   ]
  },
  {
   "cell_type": "code",
   "execution_count": 9,
   "metadata": {
    "colab": {
     "base_uri": "https://localhost:8080/"
    },
    "id": "IdJEFICrMFgV",
    "outputId": "644a8728-516c-47e2-a999-99a4a055e369"
   },
   "outputs": [
    {
     "name": "stdout",
     "output_type": "stream",
     "text": [
      "Our class names: ['other', '_background_noise_']\n",
      "Processing voices other\n",
      "Processing voices _background_noise_\n",
      "Found 6 files belonging to 2 classes.\n",
      "Using 6 files for training.\n",
      "Using 0 files for validation.\n",
      "Path: Tensor(\"AsString:0\", shape=(), dtype=string)\n",
      "Path: Tensor(\"AsString:0\", shape=(), dtype=string)\n"
     ]
    }
   ],
   "source": [
    "def paths_and_labels_to_dataset(audio_paths, labels):\n",
    "    path_ds = tf.data.Dataset.from_tensor_slices(audio_paths)\n",
    "    audio_ds = path_ds.map(lambda x: path_to_audio(x))\n",
    "    label_ds = tf.data.Dataset.from_tensor_slices(labels)\n",
    "    return tf.data.Dataset.zip((audio_ds, label_ds))\n",
    "\n",
    "\n",
    "def path_to_audio(path):\n",
    "    path = tf.strings.as_string(path)\n",
    "    print(\"Path:\", path)\n",
    "    audio = tf.io.read_file(path)\n",
    "    audio, _ = tf.audio.decode_wav(audio, 1, SAMPLING_RATE)\n",
    "    return audio\n",
    "\n",
    "\n",
    "def add_noise(audio, noises=None, scale=0.5):\n",
    "    if noises is not None:\n",
    "        tf_rnd = tf.random.uniform(\n",
    "            (tf.shape(audio)[0],), 0, noises.shape[0], dtype=tf.int32\n",
    "        )\n",
    "        noise = tf.gather(noises, tf_rnd, axis=0)\n",
    "        prop = tf.math.reduce_max(audio, axis=1) / tf.math.reduce_max(noise, axis=1)\n",
    "        prop = tf.repeat(tf.expand_dims(prop, axis=1), tf.shape(audio)[1], axis=1)\n",
    "        audio = audio + noise * prop * scale\n",
    "\n",
    "    return audio\n",
    "\n",
    "\n",
    "def audio_to_fft(audio):\n",
    "    audio = tf.squeeze(audio, axis=-1)\n",
    "    fft = tf.signal.fft(\n",
    "        tf.cast(tf.complex(real=audio, imag=tf.zeros_like(audio)), tf.complex64)\n",
    "    )\n",
    "    fft = tf.expand_dims(fft, axis=-1)\n",
    "    return tf.math.abs(fft[:, : (audio.shape[1] // 2), :])\n",
    "class_names = os.listdir(DATASET_AUDIO_PATH)\n",
    "print(\"Our class names: {}\".format(class_names,))\n",
    "\n",
    "audio_paths = []\n",
    "labels = []\n",
    "for label, name in enumerate(class_names):\n",
    "    print(\"Processing voices {}\".format(name,))\n",
    "    dir_path = Path(DATASET_AUDIO_PATH) / name\n",
    "    voice_sample_paths = [\n",
    "        os.path.join(dir_path, filepath)\n",
    "        for filepath in os.listdir(dir_path)\n",
    "        if filepath.endswith(\".wav\")\n",
    "    ]\n",
    "    audio_paths += voice_sample_paths\n",
    "    labels += [label] * len(voice_sample_paths)\n",
    "\n",
    "print(\n",
    "    \"Found {} files belonging to {} classes.\".format(len(audio_paths), len(class_names))\n",
    ")\n",
    "\n",
    "rng = np.random.RandomState(SHUFFLE_SEED)\n",
    "rng.shuffle(audio_paths)\n",
    "rng = np.random.RandomState(SHUFFLE_SEED)\n",
    "rng.shuffle(labels)\n",
    "\n",
    "num_val_samples = int(VALID_SPLIT * len(audio_paths))\n",
    "print(\"Using {} files for training.\".format(len(audio_paths) - num_val_samples))\n",
    "train_audio_paths = audio_paths[:-num_val_samples]\n",
    "train_labels = labels[:-num_val_samples]\n",
    "\n",
    "print(\"Using {} files for validation.\".format(num_val_samples))\n",
    "valid_audio_paths = audio_paths[-num_val_samples:]\n",
    "valid_labels = labels[-num_val_samples:]\n",
    "\n",
    "train_ds = paths_and_labels_to_dataset(train_audio_paths, train_labels)\n",
    "train_ds = train_ds.shuffle(buffer_size=BATCH_SIZE * 8, seed=SHUFFLE_SEED).batch(\n",
    "    BATCH_SIZE\n",
    ")\n",
    "\n",
    "valid_ds = paths_and_labels_to_dataset(valid_audio_paths, valid_labels)\n",
    "valid_ds = valid_ds.shuffle(buffer_size=32 * 8, seed=SHUFFLE_SEED).batch(32)\n",
    "\n",
    "train_ds = train_ds.map(\n",
    "    lambda x, y: (add_noise(x, noises, scale=SCALE), y),\n",
    "    num_parallel_calls=tf.data.AUTOTUNE,\n",
    ")\n",
    "\n",
    "train_ds = train_ds.map(\n",
    "    lambda x, y: (audio_to_fft(x), y), num_parallel_calls=tf.data.AUTOTUNE\n",
    ")\n",
    "train_ds = train_ds.prefetch(tf.data.AUTOTUNE)\n",
    "\n",
    "valid_ds = valid_ds.map(\n",
    "    lambda x, y: (audio_to_fft(x), y), num_parallel_calls=tf.data.AUTOTUNE\n",
    ")\n",
    "valid_ds = valid_ds.prefetch(tf.data.AUTOTUNE)"
   ]
  },
  {
   "cell_type": "code",
   "execution_count": 10,
   "metadata": {
    "colab": {
     "base_uri": "https://localhost:8080/"
    },
    "id": "2bL9yYGzMFgW",
    "outputId": "b89d3822-ed25-4f46-9855-e35fc5f59372"
   },
   "outputs": [
    {
     "data": {
      "text/html": [
       "<pre style=\"white-space:pre;overflow-x:auto;line-height:normal;font-family:Menlo,'DejaVu Sans Mono',consolas,'Courier New',monospace\"><span style=\"font-weight: bold\">Model: \"functional\"</span>\n",
       "</pre>\n"
      ],
      "text/plain": [
       "\u001b[1mModel: \"functional\"\u001b[0m\n"
      ]
     },
     "metadata": {},
     "output_type": "display_data"
    },
    {
     "data": {
      "text/html": [
       "<pre style=\"white-space:pre;overflow-x:auto;line-height:normal;font-family:Menlo,'DejaVu Sans Mono',consolas,'Courier New',monospace\">┏━━━━━━━━━━━━━━━━━━━━━━━━━━━━━━━━━┳━━━━━━━━━━━━━━━━━━━━━━━━┳━━━━━━━━━━━━━━━┓\n",
       "┃<span style=\"font-weight: bold\"> Layer (type)                    </span>┃<span style=\"font-weight: bold\"> Output Shape           </span>┃<span style=\"font-weight: bold\">       Param # </span>┃\n",
       "┡━━━━━━━━━━━━━━━━━━━━━━━━━━━━━━━━━╇━━━━━━━━━━━━━━━━━━━━━━━━╇━━━━━━━━━━━━━━━┩\n",
       "│ input_name (<span style=\"color: #0087ff; text-decoration-color: #0087ff\">InputLayer</span>)         │ (<span style=\"color: #00d7ff; text-decoration-color: #00d7ff\">None</span>, <span style=\"color: #00af00; text-decoration-color: #00af00\">8000</span>, <span style=\"color: #00af00; text-decoration-color: #00af00\">1</span>)        │             <span style=\"color: #00af00; text-decoration-color: #00af00\">0</span> │\n",
       "├─────────────────────────────────┼────────────────────────┼───────────────┤\n",
       "│ conv1d (<span style=\"color: #0087ff; text-decoration-color: #0087ff\">Conv1D</span>)                 │ (<span style=\"color: #00d7ff; text-decoration-color: #00d7ff\">None</span>, <span style=\"color: #00af00; text-decoration-color: #00af00\">7999</span>, <span style=\"color: #00af00; text-decoration-color: #00af00\">16</span>)       │            <span style=\"color: #00af00; text-decoration-color: #00af00\">48</span> │\n",
       "├─────────────────────────────────┼────────────────────────┼───────────────┤\n",
       "│ max_pooling1d (<span style=\"color: #0087ff; text-decoration-color: #0087ff\">MaxPooling1D</span>)    │ (<span style=\"color: #00d7ff; text-decoration-color: #00d7ff\">None</span>, <span style=\"color: #00af00; text-decoration-color: #00af00\">3999</span>, <span style=\"color: #00af00; text-decoration-color: #00af00\">16</span>)       │             <span style=\"color: #00af00; text-decoration-color: #00af00\">0</span> │\n",
       "├─────────────────────────────────┼────────────────────────┼───────────────┤\n",
       "│ flatten (<span style=\"color: #0087ff; text-decoration-color: #0087ff\">Flatten</span>)               │ (<span style=\"color: #00d7ff; text-decoration-color: #00d7ff\">None</span>, <span style=\"color: #00af00; text-decoration-color: #00af00\">63984</span>)          │             <span style=\"color: #00af00; text-decoration-color: #00af00\">0</span> │\n",
       "├─────────────────────────────────┼────────────────────────┼───────────────┤\n",
       "│ dense (<span style=\"color: #0087ff; text-decoration-color: #0087ff\">Dense</span>)                   │ (<span style=\"color: #00d7ff; text-decoration-color: #00d7ff\">None</span>, <span style=\"color: #00af00; text-decoration-color: #00af00\">32</span>)             │     <span style=\"color: #00af00; text-decoration-color: #00af00\">2,047,520</span> │\n",
       "├─────────────────────────────────┼────────────────────────┼───────────────┤\n",
       "│ dense_1 (<span style=\"color: #0087ff; text-decoration-color: #0087ff\">Dense</span>)                 │ (<span style=\"color: #00d7ff; text-decoration-color: #00d7ff\">None</span>, <span style=\"color: #00af00; text-decoration-color: #00af00\">64</span>)             │         <span style=\"color: #00af00; text-decoration-color: #00af00\">2,112</span> │\n",
       "├─────────────────────────────────┼────────────────────────┼───────────────┤\n",
       "│ output (<span style=\"color: #0087ff; text-decoration-color: #0087ff\">Dense</span>)                  │ (<span style=\"color: #00d7ff; text-decoration-color: #00d7ff\">None</span>, <span style=\"color: #00af00; text-decoration-color: #00af00\">2</span>)              │           <span style=\"color: #00af00; text-decoration-color: #00af00\">130</span> │\n",
       "└─────────────────────────────────┴────────────────────────┴───────────────┘\n",
       "</pre>\n"
      ],
      "text/plain": [
       "┏━━━━━━━━━━━━━━━━━━━━━━━━━━━━━━━━━┳━━━━━━━━━━━━━━━━━━━━━━━━┳━━━━━━━━━━━━━━━┓\n",
       "┃\u001b[1m \u001b[0m\u001b[1mLayer (type)                   \u001b[0m\u001b[1m \u001b[0m┃\u001b[1m \u001b[0m\u001b[1mOutput Shape          \u001b[0m\u001b[1m \u001b[0m┃\u001b[1m \u001b[0m\u001b[1m      Param #\u001b[0m\u001b[1m \u001b[0m┃\n",
       "┡━━━━━━━━━━━━━━━━━━━━━━━━━━━━━━━━━╇━━━━━━━━━━━━━━━━━━━━━━━━╇━━━━━━━━━━━━━━━┩\n",
       "│ input_name (\u001b[38;5;33mInputLayer\u001b[0m)         │ (\u001b[38;5;45mNone\u001b[0m, \u001b[38;5;34m8000\u001b[0m, \u001b[38;5;34m1\u001b[0m)        │             \u001b[38;5;34m0\u001b[0m │\n",
       "├─────────────────────────────────┼────────────────────────┼───────────────┤\n",
       "│ conv1d (\u001b[38;5;33mConv1D\u001b[0m)                 │ (\u001b[38;5;45mNone\u001b[0m, \u001b[38;5;34m7999\u001b[0m, \u001b[38;5;34m16\u001b[0m)       │            \u001b[38;5;34m48\u001b[0m │\n",
       "├─────────────────────────────────┼────────────────────────┼───────────────┤\n",
       "│ max_pooling1d (\u001b[38;5;33mMaxPooling1D\u001b[0m)    │ (\u001b[38;5;45mNone\u001b[0m, \u001b[38;5;34m3999\u001b[0m, \u001b[38;5;34m16\u001b[0m)       │             \u001b[38;5;34m0\u001b[0m │\n",
       "├─────────────────────────────────┼────────────────────────┼───────────────┤\n",
       "│ flatten (\u001b[38;5;33mFlatten\u001b[0m)               │ (\u001b[38;5;45mNone\u001b[0m, \u001b[38;5;34m63984\u001b[0m)          │             \u001b[38;5;34m0\u001b[0m │\n",
       "├─────────────────────────────────┼────────────────────────┼───────────────┤\n",
       "│ dense (\u001b[38;5;33mDense\u001b[0m)                   │ (\u001b[38;5;45mNone\u001b[0m, \u001b[38;5;34m32\u001b[0m)             │     \u001b[38;5;34m2,047,520\u001b[0m │\n",
       "├─────────────────────────────────┼────────────────────────┼───────────────┤\n",
       "│ dense_1 (\u001b[38;5;33mDense\u001b[0m)                 │ (\u001b[38;5;45mNone\u001b[0m, \u001b[38;5;34m64\u001b[0m)             │         \u001b[38;5;34m2,112\u001b[0m │\n",
       "├─────────────────────────────────┼────────────────────────┼───────────────┤\n",
       "│ output (\u001b[38;5;33mDense\u001b[0m)                  │ (\u001b[38;5;45mNone\u001b[0m, \u001b[38;5;34m2\u001b[0m)              │           \u001b[38;5;34m130\u001b[0m │\n",
       "└─────────────────────────────────┴────────────────────────┴───────────────┘\n"
      ]
     },
     "metadata": {},
     "output_type": "display_data"
    },
    {
     "data": {
      "text/html": [
       "<pre style=\"white-space:pre;overflow-x:auto;line-height:normal;font-family:Menlo,'DejaVu Sans Mono',consolas,'Courier New',monospace\"><span style=\"font-weight: bold\"> Total params: </span><span style=\"color: #00af00; text-decoration-color: #00af00\">2,049,810</span> (7.82 MB)\n",
       "</pre>\n"
      ],
      "text/plain": [
       "\u001b[1m Total params: \u001b[0m\u001b[38;5;34m2,049,810\u001b[0m (7.82 MB)\n"
      ]
     },
     "metadata": {},
     "output_type": "display_data"
    },
    {
     "data": {
      "text/html": [
       "<pre style=\"white-space:pre;overflow-x:auto;line-height:normal;font-family:Menlo,'DejaVu Sans Mono',consolas,'Courier New',monospace\"><span style=\"font-weight: bold\"> Trainable params: </span><span style=\"color: #00af00; text-decoration-color: #00af00\">2,049,810</span> (7.82 MB)\n",
       "</pre>\n"
      ],
      "text/plain": [
       "\u001b[1m Trainable params: \u001b[0m\u001b[38;5;34m2,049,810\u001b[0m (7.82 MB)\n"
      ]
     },
     "metadata": {},
     "output_type": "display_data"
    },
    {
     "data": {
      "text/html": [
       "<pre style=\"white-space:pre;overflow-x:auto;line-height:normal;font-family:Menlo,'DejaVu Sans Mono',consolas,'Courier New',monospace\"><span style=\"font-weight: bold\"> Non-trainable params: </span><span style=\"color: #00af00; text-decoration-color: #00af00\">0</span> (0.00 B)\n",
       "</pre>\n"
      ],
      "text/plain": [
       "\u001b[1m Non-trainable params: \u001b[0m\u001b[38;5;34m0\u001b[0m (0.00 B)\n"
      ]
     },
     "metadata": {},
     "output_type": "display_data"
    }
   ],
   "source": [
    "def build_model(input_shape, num_classes):\n",
    "    inputs = keras.layers.Input(shape=input_shape, name=\"input_name\")\n",
    "\n",
    "    x = keras.layers.Conv1D(16, 2)(inputs)\n",
    "    x = keras.layers.MaxPool1D(pool_size=2, strides=2)(x)\n",
    "    x = keras.layers.Flatten()(x)\n",
    "    x = keras.layers.Dense(32, activation=\"relu\")(x)\n",
    "    x = keras.layers.Dense(64, activation=\"relu\")(x)\n",
    "\n",
    "    outputs = keras.layers.Dense(num_classes, activation=\"sigmoid\", name=\"output\")(x)\n",
    "\n",
    "    return keras.models.Model(inputs=inputs, outputs=outputs)\n",
    "\n",
    "\n",
    "model = build_model((SAMPLING_RATE // 2, 1), len(class_names))\n",
    "\n",
    "model.summary()\n",
    "\n",
    "model.compile(\n",
    "    optimizer=\"Adam\", loss=\"sparse_categorical_crossentropy\", metrics=[\"accuracy\"]\n",
    ")\n",
    "\n",
    "model_save_filename = \"model_emir.keras\"\n",
    "\n",
    "earlystopping_cb = keras.callbacks.EarlyStopping(patience=10, restore_best_weights=True)\n",
    "mdlcheckpoint_cb = keras.callbacks.ModelCheckpoint(\n",
    "    model_save_filename, monitor=\"val_accuracy\", save_best_only=True\n",
    ")"
   ]
  },
  {
   "cell_type": "code",
   "execution_count": null,
   "metadata": {
    "colab": {
     "base_uri": "https://localhost:8080/"
    },
    "id": "JH_ipsSgMFgX",
    "outputId": "048fce11-871c-42ed-9bf3-3698d816c1ca"
   },
   "outputs": [
    {
     "name": "stdout",
     "output_type": "stream",
     "text": [
      "Epoch 1/10\n"
     ]
    },
    {
     "name": "stderr",
     "output_type": "stream",
     "text": [
      "C:\\Users\\HP\\anaconda3\\Lib\\contextlib.py:158: UserWarning: Your input ran out of data; interrupting training. Make sure that your dataset or generator can generate at least `steps_per_epoch * epochs` batches. You may need to use the `.repeat()` function when building your dataset.\n",
      "  self.gen.throw(value)\n"
     ]
    }
   ],
   "source": [
    "train_ds = train_ds.repeat()  # Repeat the training dataset indefinitely\n",
    "valid_ds = valid_ds.repeat()  # Repeat the validation dataset indefinitely\n",
    "\n",
    "history = model.fit(\n",
    "    train_ds,\n",
    "    epochs=EPOCHS,\n",
    "    steps_per_epoch=100,  # Limit batches per epoch\n",
    "    validation_data=valid_ds,\n",
    "    callbacks=[earlystopping_cb, mdlcheckpoint_cb],\n",
    ")"
   ]
  },
  {
   "cell_type": "code",
   "execution_count": null,
   "metadata": {
    "colab": {
     "base_uri": "https://localhost:8080/"
    },
    "id": "4Ut4g369MFgX",
    "outputId": "86b1c2e6-2181-4b8f-8fed-90a85245bc1c"
   },
   "outputs": [],
   "source": [
    "print(model.evaluate(valid_ds))"
   ]
  },
  {
   "cell_type": "code",
   "execution_count": 50,
   "metadata": {
    "colab": {
     "base_uri": "https://localhost:8080/",
     "height": 93
    },
    "id": "fsam7gNTMFgY",
    "outputId": "792ef124-c435-48d4-e66b-18e2283b890a"
   },
   "outputs": [
    {
     "name": "stdout",
     "output_type": "stream",
     "text": [
      "Voice Type:\u001b[92m walking\u001b[0m\tPredicted:\u001b[92m walking\u001b[0m\n"
     ]
    },
    {
     "data": {
      "text/html": [
       "\n",
       "                <audio controls=\"controls\" >\n",
       "                    <source src=\"data:audio/wav;base64,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\" type=\"audio/wav\" />\n",
       "                    Your browser does not support the audio element.\n",
       "                </audio>\n",
       "              "
      ],
      "text/plain": [
       "<IPython.lib.display.Audio object>"
      ]
     },
     "metadata": {},
     "output_type": "display_data"
    }
   ],
   "source": [
    "display_example = 1\n",
    "\n",
    "test_ds = paths_and_labels_to_dataset(valid_audio_paths, valid_labels)\n",
    "test_ds = test_ds.shuffle(buffer_size=BATCH_SIZE * 8, seed=SHUFFLE_SEED).batch(\n",
    "    BATCH_SIZE\n",
    ")\n",
    "\n",
    "test_ds = test_ds.map(lambda x, y: (add_noise(x, noises, scale=SCALE), y))\n",
    "\n",
    "for audios, labels in test_ds.take(1):\n",
    "    ffts = audio_to_fft(audios)\n",
    "    y_pred = model.predict(ffts)\n",
    "    rnd = np.random.randint(0, 1, display_example)\n",
    "    audios = audios.numpy()[rnd, :, :]\n",
    "    labels = labels.numpy()[rnd]\n",
    "    y_pred = np.argmax(y_pred, axis=-1)[rnd]\n",
    "\n",
    "    for index in range(display_example):\n",
    "        print(\n",
    "            \"Voice Type:\\33{} {}\\33[0m\\tPredicted:\\33{} {}\\33[0m\".format(\n",
    "                \"[92m\" if labels[index] == y_pred[index] else \"[91m\",\n",
    "                class_names[labels[index]],\n",
    "                \"[92m\" if labels[index] == y_pred[index] else \"[91m\",\n",
    "                class_names[y_pred[index]],\n",
    "            )\n",
    "        )\n",
    "        display(Audio(audios[index, :, :].squeeze(), rate=SAMPLING_RATE))"
   ]
  },
  {
   "cell_type": "code",
   "execution_count": 51,
   "metadata": {
    "colab": {
     "base_uri": "https://localhost:8080/"
    },
    "id": "2bQ5ihnAbLIF",
    "outputId": "124aab71-4094-46c0-d8c2-a427257ee161"
   },
   "outputs": [
    {
     "name": "stdout",
     "output_type": "stream",
     "text": [
      "updating: content/model_emir.h5 (deflated 13%)\n"
     ]
    }
   ],
   "source": [
    "!zip /content/model_emir.zip /content/model_emir.h5"
   ]
  }
 ],
 "metadata": {
  "colab": {
   "collapsed_sections": [],
   "name": "Voice Detection Emirhan.ipynb",
   "provenance": []
  },
  "kernelspec": {
   "display_name": "Python 3 (ipykernel)",
   "language": "python",
   "name": "python3"
  },
  "language_info": {
   "codemirror_mode": {
    "name": "ipython",
    "version": 3
   },
   "file_extension": ".py",
   "mimetype": "text/x-python",
   "name": "python",
   "nbconvert_exporter": "python",
   "pygments_lexer": "ipython3",
   "version": "3.12.7"
  }
 },
 "nbformat": 4,
 "nbformat_minor": 4
}
